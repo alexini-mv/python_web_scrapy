{
 "cells": [
  {
   "cell_type": "markdown",
   "id": "a21c7e43-4428-451d-a6d7-c38a01a786d5",
   "metadata": {},
   "source": [
    "## Práctica de scrapping usando la libraria BeautifulSoup"
   ]
  },
  {
   "cell_type": "code",
   "execution_count": 1,
   "id": "b8ccdca8-8053-45b5-b3c5-8e690025f0ef",
   "metadata": {},
   "outputs": [],
   "source": [
    "import json\n",
    "\n",
    "from bs4 import BeautifulSoup\n",
    "import requests"
   ]
  },
  {
   "cell_type": "markdown",
   "id": "175d12c1-aa91-4030-95fb-128faeb3f5c6",
   "metadata": {},
   "source": [
    "### Definimos la url que queremos scrapear"
   ]
  },
  {
   "cell_type": "code",
   "execution_count": 2,
   "id": "93cfa324-2fbb-4c26-9fed-644d2c77eb2d",
   "metadata": {},
   "outputs": [],
   "source": [
    "URL = \"https://jkanime.net/amagami-ss/\""
   ]
  },
  {
   "cell_type": "markdown",
   "id": "9a142b65-228f-4266-9eeb-6c0586c8dc53",
   "metadata": {},
   "source": [
    "### Realizamos la petición a la página y lo parseamos con BeautifilSoup"
   ]
  },
  {
   "cell_type": "code",
   "execution_count": 3,
   "id": "5a51b990-23d8-4734-b6ea-224fc54ee282",
   "metadata": {},
   "outputs": [],
   "source": [
    "response = requests.get(URL)"
   ]
  },
  {
   "cell_type": "code",
   "execution_count": 4,
   "id": "aae08635-9fe7-4a79-b8f4-73923a0a9b40",
   "metadata": {},
   "outputs": [],
   "source": [
    "s = BeautifulSoup(response.text, \"lxml\")"
   ]
  },
  {
   "cell_type": "markdown",
   "id": "32a96338-cf40-426b-975f-fc414370052f",
   "metadata": {},
   "source": [
    "### Ahora realizamos la busqueda de los links hacía las sugerencias"
   ]
  },
  {
   "cell_type": "code",
   "execution_count": 5,
   "id": "3d630e8f-640d-429f-adf4-9927a587706a",
   "metadata": {},
   "outputs": [],
   "source": [
    "seccion = s.find_all(\"div\", attrs={\"class\": \"anime__item\"})"
   ]
  },
  {
   "cell_type": "code",
   "execution_count": 6,
   "id": "7eab1815-3508-4ff8-b12c-3cff9e92418e",
   "metadata": {},
   "outputs": [
    {
     "name": "stdout",
     "output_type": "stream",
     "text": [
      "<div class=\"anime__item\">\n",
      " <a href=\"https://jkanime.net/photo-kano/\" title=\"Photokano\">\n",
      "  <div class=\"anime__item__pic homemini set-bg\" data-setbg=\"https://cdn.jkdesu.com/assets/images/animes/image/photo-kano.jpg\" style='background-image: url(\"https://cdn.jkdesu.com/assets/images/animes/image/photo-kano.jpg\");'>\n",
      "   <div class=\"anime__item__text\">\n",
      "    <ul>\n",
      "     <li class=\"peli\">\n",
      "      Anime\n",
      "     </li>\n",
      "    </ul>\n",
      "   </div>\n",
      "  </div>\n",
      " </a>\n",
      " <div class=\"anime__item__text tituloblanco\">\n",
      "  <h5>\n",
      "   <a href=\"https://jkanime.net/photo-kano/\">\n",
      "    Photokano\n",
      "   </a>\n",
      "  </h5>\n",
      " </div>\n",
      "</div>\n",
      "\n"
     ]
    }
   ],
   "source": [
    "print(seccion[0].prettify())"
   ]
  },
  {
   "cell_type": "code",
   "execution_count": 7,
   "id": "fa4f8195-362c-4bae-825d-6ae753a5e330",
   "metadata": {},
   "outputs": [],
   "source": [
    "sugerencias = {selec.a.get(\"title\"): selec.a.get(\"href\") for selec in seccion}"
   ]
  },
  {
   "cell_type": "code",
   "execution_count": 8,
   "id": "e3c630b6-5985-4129-a9b1-0d02f412e4d7",
   "metadata": {},
   "outputs": [
    {
     "data": {
      "text/plain": [
       "{'Photokano': 'https://jkanime.net/photo-kano/',\n",
       " 'Hatsukoi Limited': 'https://jkanime.net/hatsukoi-limited/',\n",
       " 'Kami nomi zo Shiru Sekai II': 'https://jkanime.net/kami-nomi-zo-shiru-sekai-ii/',\n",
       " 'Kami nomi zo Shiru Sekai': 'https://jkanime.net/kami-nomi-zo-shiru-sekai/',\n",
       " 'Clannad': 'https://jkanime.net/clannad/',\n",
       " 'Yosuga no Sora': 'https://jkanime.net/yosuga-no-sora/'}"
      ]
     },
     "execution_count": 8,
     "metadata": {},
     "output_type": "execute_result"
    }
   ],
   "source": [
    "sugerencias"
   ]
  },
  {
   "cell_type": "markdown",
   "id": "c55d2dbc-b67e-4967-843d-4c421098742e",
   "metadata": {},
   "source": [
    "### Iremos a cada una de las sugerencias, y nos traeremos el Nombre del Anime, Género y Descripción"
   ]
  },
  {
   "cell_type": "code",
   "execution_count": 9,
   "id": "2fad5cb9-9b15-4312-98b1-7d455f87ccaa",
   "metadata": {},
   "outputs": [],
   "source": [
    "animes = []\n",
    "\n",
    "for _, link in sugerencias.items():\n",
    "    # Realizamos la petición a cada link\n",
    "    anime_response = requests.get(link)\n",
    "    \n",
    "    # Parseamos la respuesta\n",
    "    soup = BeautifulSoup(anime_response.text, 'lxml')\n",
    "    \n",
    "    # Buscamos la información\n",
    "    info = soup.find(\"div\", attrs={\"class\":\"anime__details__text\"}) \n",
    "    \n",
    "    nombre = info.h3.get_text()\n",
    "    descripcion = info.p.get_text()\n",
    "    \n",
    "    info_genero = info.ul.li.find_next_sibling(\"li\")\n",
    "    generos = info_genero.find_all(\"a\")\n",
    "    \n",
    "    genero = [genero.get_text() for genero in generos]\n",
    "    \n",
    "    animes.append(\n",
    "        {\n",
    "            \"nombre\": nombre,\n",
    "            \"descripcion\": descripcion,\n",
    "            \"generos\": genero\n",
    "        }\n",
    "    )\n"
   ]
  },
  {
   "cell_type": "code",
   "execution_count": 10,
   "id": "99effc5c-1f66-408d-b6a4-7cf838d2c8c1",
   "metadata": {},
   "outputs": [
    {
     "name": "stdout",
     "output_type": "stream",
     "text": [
      "{'nombre': 'Photokano', 'descripcion': 'Kazuya, un chico de segundo año, luego de unas vacaciones de verano recibe una cámara digital como regalo, es entonces donde comienza a su fascinación por este gadget desarrollando la fotografía como su nuevo hobby y un empuje a su vida social.', 'generos': ['Colegial', 'Romance', 'Ecchi']}\n"
     ]
    }
   ],
   "source": [
    "print(animes[0])"
   ]
  },
  {
   "cell_type": "markdown",
   "id": "56d26bab-400c-40dd-aa00-8dd55b428895",
   "metadata": {},
   "source": [
    "### Guardamos el resultado de la consulta en un json"
   ]
  },
  {
   "cell_type": "code",
   "execution_count": 11,
   "id": "68a5aa2f-9691-4093-b40f-8b5baaf90b25",
   "metadata": {},
   "outputs": [],
   "source": [
    "with open(\"animes.json\", \"w\") as file:\n",
    "    json.dump(animes, file, indent=4, ensure_ascii=False)"
   ]
  }
 ],
 "metadata": {
  "kernelspec": {
   "display_name": "Python 3 (ipykernel)",
   "language": "python",
   "name": "python3"
  },
  "language_info": {
   "codemirror_mode": {
    "name": "ipython",
    "version": 3
   },
   "file_extension": ".py",
   "mimetype": "text/x-python",
   "name": "python",
   "nbconvert_exporter": "python",
   "pygments_lexer": "ipython3",
   "version": "3.10.4"
  }
 },
 "nbformat": 4,
 "nbformat_minor": 5
}
