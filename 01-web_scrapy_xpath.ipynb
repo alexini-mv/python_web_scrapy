{
 "cells": [
  {
   "cell_type": "markdown",
   "id": "fd818ae4-8840-4908-ae7e-ab5d5c5535c2",
   "metadata": {},
   "source": [
    "### Importamos las librerias necesarias"
   ]
  },
  {
   "cell_type": "code",
   "execution_count": 2,
   "id": "2251cecb-6535-408b-b7be-701a4d1da015",
   "metadata": {},
   "outputs": [],
   "source": [
    "import os\n",
    "import datetime\n",
    "\n",
    "import requests\n",
    "import lxml.html as html\n",
    "\n",
    "from tqdm.notebook import tqdm"
   ]
  },
  {
   "cell_type": "markdown",
   "id": "542144ca-ba5b-4b76-8271-215210fae2a7",
   "metadata": {},
   "source": [
    "### Definimos como constante las declaraciones XPath que ya hayamos construido de nuestra página objetivo"
   ]
  },
  {
   "cell_type": "code",
   "execution_count": 3,
   "id": "2813d1dc-f251-4afe-ad25-d247867e5f7b",
   "metadata": {},
   "outputs": [],
   "source": [
    "HOME_URL = 'https://www.larepublica.co/'\n",
    "\n",
    "XPATH_LINK_TO_ARTICLE = '//text-fill[not(@class)]/a/@href'    # Se cambio h2 por text-fill para que jalara el parsed\n",
    "\n",
    "XPATH_TITLE = '//div[@class=\"mb-auto\"]/h2/span/text()'    # Se cambio h2 por text-fill para que jalara el parsed\n",
    "\n",
    "XPATH_SUMMARY = '//div[@class=\"lead\"]/p/text()'\n",
    "\n",
    "XPATH_BODY = '//div[@class=\"html-content\"]/p[not(@class)]/text()'"
   ]
  },
  {
   "cell_type": "markdown",
   "id": "99fc2c77-dc75-46f0-843d-aa5037a5485f",
   "metadata": {},
   "source": [
    "### Definimos la función que parseará el home de la página y obtendrá los links de los artículos"
   ]
  },
  {
   "cell_type": "code",
   "execution_count": 4,
   "id": "e3c81ea5-bd47-4bee-a89d-f4f6d3f2a4be",
   "metadata": {},
   "outputs": [],
   "source": [
    "def parse_home():\n",
    "    # Procuremos envolver la petición en un bloque try-except\n",
    "    try:\n",
    "        # Realizamos la petición al sitio web\n",
    "        print(f\"Realizamos la petición a {HOME_URL}\")\n",
    "        response = requests.get(HOME_URL)\n",
    "        \n",
    "        if response.status_code == 200:\n",
    "            # Decodificamos el contenido de la respuesta como utf-8\n",
    "            home = response.content.decode('utf-8')\n",
    "            \n",
    "            # Parsearemos el string respuesta a un HTML con superpoderes\n",
    "            parsed = html.fromstring(home)\n",
    "            \n",
    "            # Obtenemos los links a partir de la instrucción XPath previamente probada\n",
    "            links_to_notices = parsed.xpath(XPATH_LINK_TO_ARTICLE)\n",
    "            \n",
    "            # Obtenemos la fecha de hoy\n",
    "            today = datetime.date.today().strftime('%d-%m-%Y')\n",
    "            \n",
    "            # Creamos una carpeta con la fecha de hoy para guardar las notas\n",
    "            if not os.path.isdir(today):\n",
    "                os.mkdir(today)\n",
    "\n",
    "            # Iteramos sobre todos los links para obtener la nota completa\n",
    "            for link in tqdm(links_to_notices):\n",
    "                parse_notice(link, today)\n",
    "        \n",
    "        else:\n",
    "            raise ValueError(f'Error: {response.status_code}')\n",
    "            \n",
    "    except ValueError as ve:\n",
    "        print(ve)"
   ]
  },
  {
   "cell_type": "markdown",
   "id": "bbabb860-577c-4388-ae88-c7ef05820919",
   "metadata": {},
   "source": [
    "### Definimos la función que obtendrá la información de cada uno de los links"
   ]
  },
  {
   "cell_type": "code",
   "execution_count": 13,
   "id": "27a8c8ab-bf85-44c7-9f2a-c918c12b6506",
   "metadata": {},
   "outputs": [],
   "source": [
    "def parse_notice(link, today):\n",
    "    try:\n",
    "        # Hacemos la petición al link de la noticia\n",
    "        response = requests.get(link)\n",
    "        if response.status_code == 200:\n",
    "            notice = response.content.decode('utf-8')\n",
    "            parsed = html.fromstring(notice)\n",
    "            \n",
    "            # Tratamos de extraer la información del Título, resumen y el cuerpo de la nota.\n",
    "            try:\n",
    "                title = parsed.xpath(XPATH_TITLE)[0]\n",
    "                title = title.replace('\\\"', '').replace(',', '').strip()\n",
    "                summary = parsed.xpath(XPATH_SUMMARY)[0]\n",
    "                body = parsed.xpath(XPATH_BODY)\n",
    "                    \n",
    "            except IndexError as ie:\n",
    "                return\n",
    "            \n",
    "            # Escribimos cada una de las notas en un archivo .txt \n",
    "            with open(f'{today}/{title}.txt', 'w', encoding='utf-8') as f:\n",
    "                f.write(title)\n",
    "                f.write('\\n\\n')\n",
    "                f.write(summary)\n",
    "                f.write('\\n\\n')\n",
    "\n",
    "                for p in body:\n",
    "                    f.write(p)\n",
    "                    f.write('\\n')\n",
    "\n",
    "                f.write('\\n\\n\\n')\n",
    "                f.write(f'Link de la noticia: {link}')\n",
    "        else:\n",
    "            raise ValueError(f'Error: {response.status_code}')\n",
    "            \n",
    "    except ValueError as ve:\n",
    "        print(ve)"
   ]
  },
  {
   "cell_type": "markdown",
   "id": "2dc13e84-4479-436f-bde7-20d74e4deee2",
   "metadata": {},
   "source": [
    "### Ejecutamos el script en un entry-point"
   ]
  },
  {
   "cell_type": "code",
   "execution_count": 14,
   "id": "50e009f1-e391-4a7b-a1d3-c6294f7c90c4",
   "metadata": {},
   "outputs": [
    {
     "name": "stdout",
     "output_type": "stream",
     "text": [
      "Realizamos la petición a https://www.larepublica.co/\n"
     ]
    },
    {
     "data": {
      "application/vnd.jupyter.widget-view+json": {
       "model_id": "0a6ed9167c0a445bbaceaaf257170014",
       "version_major": 2,
       "version_minor": 0
      },
      "text/plain": [
       "  0%|          | 0/78 [00:00<?, ?it/s]"
      ]
     },
     "metadata": {},
     "output_type": "display_data"
    }
   ],
   "source": [
    "if __name__ == \"__main__\":\n",
    "    parse_home()"
   ]
  },
  {
   "cell_type": "code",
   "execution_count": null,
   "id": "5cb8b252-f44f-4c11-93cc-6c110af5d43c",
   "metadata": {},
   "outputs": [],
   "source": []
  }
 ],
 "metadata": {
  "kernelspec": {
   "display_name": "Python 3 (ipykernel)",
   "language": "python",
   "name": "python3"
  },
  "language_info": {
   "codemirror_mode": {
    "name": "ipython",
    "version": 3
   },
   "file_extension": ".py",
   "mimetype": "text/x-python",
   "name": "python",
   "nbconvert_exporter": "python",
   "pygments_lexer": "ipython3",
   "version": "3.10.4"
  }
 },
 "nbformat": 4,
 "nbformat_minor": 5
}
